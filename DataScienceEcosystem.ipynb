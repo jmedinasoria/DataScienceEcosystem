{
 "cells": [
  {
   "cell_type": "markdown",
   "id": "844f451c-1dec-49ac-b245-c0fbbbab984d",
   "metadata": {},
   "source": [
    "# Data Science Tools & Ecosystem"
   ]
  },
  {
   "cell_type": "markdown",
   "id": "7cef4080-ef6f-4122-8926-f460df3840eb",
   "metadata": {},
   "source": [
    "## This notebook contains a summary of data science tools and ecosystems."
   ]
  },
  {
   "cell_type": "markdown",
   "id": "22245ffe-eb92-49dc-9d19-804b191cf56d",
   "metadata": {},
   "source": [
    "## **Objectives:**\n",
    "- List popular languages for Data Science\n",
    "- Present commonly used libraries for Data Scientists\n",
    "- Perform arithmetic expression examples\n",
    "- Demonstrate variable assignment"
   ]
  },
  {
   "cell_type": "markdown",
   "id": "2bc04860-817b-40b2-9f06-e4970b362987",
   "metadata": {},
   "source": [
    "### Some of the popular languages that Data Scientists use are:\n",
    "1. Python\n",
    "2. R\n",
    "3. SQL"
   ]
  },
  {
   "cell_type": "markdown",
   "id": "e69c5dc0-3ebe-4822-b79f-7e6ecabf05ce",
   "metadata": {},
   "source": [
    "### Some of the commonly used libraries used by Data Scientists include:\n",
    "1. Pandas\n",
    "2. MatPlotLib\n",
    "3. NumPy"
   ]
  },
  {
   "cell_type": "markdown",
   "id": "28b02c2b-bef6-468a-b316-97bdb9f30ab0",
   "metadata": {},
   "source": [
    "|Data Science Tools|\n",
    "--------------------\n",
    "| Jupyter |\n",
    "| RStudio |\n",
    "| Spyder |"
   ]
  },
  {
   "cell_type": "markdown",
   "id": "bc6e39aa-8b30-436b-b338-805b39ccdb18",
   "metadata": {},
   "source": [
    "### Below are a few examples of evaluating arithmetic expressions in Python. "
   ]
  },
  {
   "cell_type": "code",
   "execution_count": 1,
   "id": "41ebee72-e8d5-4af1-81f0-108eb3964c9c",
   "metadata": {},
   "outputs": [
    {
     "data": {
      "text/plain": [
       "17"
      ]
     },
     "execution_count": 1,
     "metadata": {},
     "output_type": "execute_result"
    }
   ],
   "source": [
    "# This is a simple arithmetic expression to multiply and then add integers. \n",
    "(3*4) + 5"
   ]
  },
  {
   "cell_type": "code",
   "execution_count": 4,
   "id": "29eeed90-93e6-400c-9051-7180f9afbaad",
   "metadata": {},
   "outputs": [
    {
     "data": {
      "text/plain": [
       "3.3333333333333335"
      ]
     },
     "execution_count": 4,
     "metadata": {},
     "output_type": "execute_result"
    }
   ],
   "source": [
    "# This will convert 200 minutes to hours by dividing by 60. \n",
    "minutes = 200\n",
    "mins_in_one_hour = 60\n",
    "hours = minutes / mins_in_one_hour\n",
    "hours"
   ]
  },
  {
   "cell_type": "markdown",
   "id": "7f785578-bb8c-4ef9-ad33-c1864545259b",
   "metadata": {},
   "source": [
    "## Author\n",
    "Jacqueline Medina Soria"
   ]
  },

 ],
 "metadata": {
  "kernelspec": {
   "display_name": "Python 3 (ipykernel)",
   "language": "python",
   "name": "python3"
  },
  "language_info": {
   "codemirror_mode": {
    "name": "ipython",
    "version": 3
   },
   "file_extension": ".py",
   "mimetype": "text/x-python",
   "name": "python",
   "nbconvert_exporter": "python",
   "pygments_lexer": "ipython3",
   "version": "3.11.5"
  }
 },
 "nbformat": 4,
 "nbformat_minor": 5
}
